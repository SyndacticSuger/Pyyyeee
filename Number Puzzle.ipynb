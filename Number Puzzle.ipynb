{
 "cells": [
  {
   "cell_type": "markdown",
   "id": "aa7488ab",
   "metadata": {},
   "source": [
    "### Import required libraries"
   ]
  },
  {
   "cell_type": "code",
   "execution_count": 1,
   "id": "f6a29bce",
   "metadata": {},
   "outputs": [],
   "source": [
    "import numpy as np\n",
    "import random"
   ]
  },
  {
   "cell_type": "markdown",
   "id": "ae95cfde",
   "metadata": {},
   "source": [
    "### Value of the current state of the program"
   ]
  },
  {
   "cell_type": "code",
   "execution_count": 2,
   "id": "5629dd89",
   "metadata": {},
   "outputs": [],
   "source": [
    "isSolved = False"
   ]
  },
  {
   "cell_type": "markdown",
   "id": "b662f7c6",
   "metadata": {},
   "source": [
    "### Log to console"
   ]
  },
  {
   "cell_type": "code",
   "execution_count": 3,
   "id": "491de6d3",
   "metadata": {},
   "outputs": [],
   "source": [
    "def Log(message, category):\n",
    "    print(\"Log:\", category , \"| Message:\", message)"
   ]
  },
  {
   "cell_type": "markdown",
   "id": "a1c2ee4f",
   "metadata": {},
   "source": [
    "### Ends the game"
   ]
  },
  {
   "cell_type": "code",
   "execution_count": 4,
   "id": "56429efe",
   "metadata": {},
   "outputs": [],
   "source": [
    "def check_game_over(thePuzzleToSolve, obj):\n",
    "    solved_Puzzle = obj.Solved_Puzzle\n",
    "    \n",
    "    if (thePuzzleToSolve == solved_Puzzle).all() == True:\n",
    "        isSolved = False\n",
    "        print(\"___________________________________________________________________________\\n\\n\")\n",
    "        print(\"_______________ CONGRATULATION _______________\\n\\n\")\n",
    "        print(\"___________________________________________________________________________\\n\\n\")"
   ]
  },
  {
   "cell_type": "markdown",
   "id": "991b5279",
   "metadata": {},
   "source": [
    "### Get the position of 0 in X"
   ]
  },
  {
   "cell_type": "code",
   "execution_count": 5,
   "id": "cc1b11fb",
   "metadata": {},
   "outputs": [],
   "source": [
    "def zero_index(puzzle):\n",
    "    rowcol = list(np.where(puzzle==0))\n",
    "    row = rowcol[0][0]\n",
    "    col = rowcol[1][0]\n",
    "    \n",
    "    return {\"Zero_Row\": row, \"Zero_Col\": col}"
   ]
  },
  {
   "cell_type": "markdown",
   "id": "b7b5c6da",
   "metadata": {},
   "source": [
    "### Check Move Validity"
   ]
  },
  {
   "cell_type": "code",
   "execution_count": 6,
   "id": "b3c7384a",
   "metadata": {},
   "outputs": [],
   "source": [
    "def check_move_validity(x_axis0, x_axis1):\n",
    "    ## Get the axis of None\n",
    "    none_axis0, none_axis1 = position_of_None()\n",
    "    \n",
    "    ## Validate the move\n",
    "        # if the difference of any axis is 0, other axis must be 1\n",
    "    if abs(x_axis0 - none_axis0) == 1 and abs(x_axis1 - none_axis1) == 0:\n",
    "        return True\n",
    "    elif abs(x_axis0 - none_axis0) == 0 and abs(x_axis1 - none_axis1) == 1:\n",
    "        return True"
   ]
  },
  {
   "cell_type": "markdown",
   "id": "d92c8fc6",
   "metadata": {},
   "source": [
    "### Make Puzzle"
   ]
  },
  {
   "cell_type": "code",
   "execution_count": 7,
   "id": "926827b7",
   "metadata": {},
   "outputs": [],
   "source": [
    "def make_puzzle(y,ix,iy, Number_of_shuffle):\n",
    "    puzzle = y.copy()\n",
    "    \n",
    "    for i in range(Number_of_shuffle):\n",
    "        ax_0_1, ax_1_1, ax_0_2, ax_1_2 = np.random.randint(ix), np.random.randint(iy), np.random.randint(ix), np.random.randint(iy)\n",
    "        puzzle[ax_0_1][ax_1_1], puzzle[ax_0_2][ax_1_2] = puzzle[ax_0_2][ax_1_2], puzzle[ax_0_1][ax_1_1]\n",
    "\n",
    "    return {\n",
    "        \"Puzzle\": puzzle,\n",
    "        \"Zero_index\": zero_index(puzzle)\n",
    "    }"
   ]
  },
  {
   "cell_type": "markdown",
   "id": "f805a96a",
   "metadata": {},
   "source": [
    "### Make The solved Puzzle"
   ]
  },
  {
   "cell_type": "code",
   "execution_count": 8,
   "id": "330522dd",
   "metadata": {},
   "outputs": [],
   "source": [
    "def make_solved_puzzle(ix, iy,Number_of_shuffle):\n",
    "    y = np.arange(1,(ix *iy + 1)).reshape(ix,iy)\n",
    "    y[ix-1,iy - 1] = 0\n",
    "\n",
    "    return {\n",
    "        \"Make_Puzzle_Returns\": make_puzzle(y, ix,iy,Number_of_shuffle),\n",
    "        \"Solved_Puzzle\": y\n",
    "    } "
   ]
  },
  {
   "cell_type": "markdown",
   "id": "81a41aa1",
   "metadata": {},
   "source": [
    "### Handle the task of making X and Y"
   ]
  },
  {
   "cell_type": "code",
   "execution_count": 9,
   "id": "a4d39ad3",
   "metadata": {},
   "outputs": [],
   "source": [
    "def main():\n",
    "    xx = input(\"Puzzle size(Row), Puzzle size(Col): (Please separate thorugh space only): \").split(\" \")\n",
    "    Number_of_shuffle = int(input(\"How many shuffle you want? (The more shuffle, the difficult to solve..): \"))\n",
    "    ix, iy = int(xx[0]), int(xx[1])\n",
    "    \n",
    "    return make_solved_puzzle(ix , iy, Number_of_shuffle)"
   ]
  },
  {
   "cell_type": "markdown",
   "id": "71c5b078",
   "metadata": {},
   "source": [
    "## Make a move (Change position of player's desired digit)"
   ]
  },
  {
   "cell_type": "code",
   "execution_count": 10,
   "id": "0034eee0",
   "metadata": {},
   "outputs": [],
   "source": [
    "def make_move(move_row, move_col, obj):\n",
    "    zero_row, zero_col = obj.Zero_row, obj.Zero_col\n",
    "    temp_Puzzle = obj.Puzzle\n",
    "    #Shuffle the value between move field and zero field\n",
    "    temp_Puzzle[move_row][move_col], temp_Puzzle[zero_row][zero_col] = temp_Puzzle[zero_row][zero_col],temp_Puzzle[move_row][move_col]\n",
    "    obj.Zero_row, obj.Zero_col = move_row, move_col\n",
    "    return temp_Puzzle"
   ]
  },
  {
   "cell_type": "markdown",
   "id": "734369e7",
   "metadata": {},
   "source": [
    "## Validate Move"
   ]
  },
  {
   "cell_type": "code",
   "execution_count": 11,
   "id": "af917ea7",
   "metadata": {},
   "outputs": [],
   "source": [
    "def validate_move(move_row, move_col, obj):\n",
    "    zero_row, zero_col = obj.Zero_row, obj.Zero_col\n",
    "    \n",
    "    if abs(move_row - zero_row) == 1 and abs(move_col - zero_col) == 0:\n",
    "        return True\n",
    "    elif abs(move_row - zero_row) == 0 and abs(move_col - zero_col) == 1:\n",
    "        return True"
   ]
  },
  {
   "cell_type": "markdown",
   "id": "b8ef9a38",
   "metadata": {},
   "source": [
    "## Display current puzzle"
   ]
  },
  {
   "cell_type": "code",
   "execution_count": 12,
   "id": "50657282",
   "metadata": {},
   "outputs": [],
   "source": [
    "def current_puzzle(puzzle):\n",
    "    for row in puzzle:\n",
    "        for col in row:\n",
    "            print(f\"{col}\\t\",end=\"\")\n",
    "        print(\"\\n\")"
   ]
  },
  {
   "cell_type": "markdown",
   "id": "690e598c",
   "metadata": {},
   "source": [
    "### A class that will save all the value"
   ]
  },
  {
   "cell_type": "code",
   "execution_count": 13,
   "id": "735bbd7e",
   "metadata": {},
   "outputs": [],
   "source": [
    "class Main:\n",
    "    #Puzzle \n",
    "    #Solved_Puzzle\n",
    "    #Zero row\n",
    "    #zero col\n",
    "    def __init__(self,main_function):\n",
    "        returns = main_function()\n",
    "        self.Puzzle = returns['Make_Puzzle_Returns']['Puzzle']\n",
    "        self.Solved_Puzzle = returns['Solved_Puzzle']\n",
    "        self.Zero_row = returns['Make_Puzzle_Returns']['Zero_index']['Zero_Row']\n",
    "        self.Zero_col = returns['Make_Puzzle_Returns']['Zero_index']['Zero_Col']"
   ]
  },
  {
   "cell_type": "markdown",
   "id": "ff5162e7",
   "metadata": {},
   "source": [
    "# Play"
   ]
  },
  {
   "cell_type": "code",
   "execution_count": 14,
   "id": "19b41c23",
   "metadata": {},
   "outputs": [],
   "source": [
    "def __init__():\n",
    "    obj = Main(main)\n",
    "    print(\"\\n\\n\\n\\n\")\n",
    "    move_row, move_col = 0, 0\n",
    "    \n",
    "    total_move_counts = 0\n",
    "    while not isSolved:\n",
    "        ## ___ Log the current value of the puzzle\n",
    "        current_puzzle(obj.Puzzle)\n",
    "        print(f\"\\n _____ Move number: {total_move_counts} _____\\n\")\n",
    "        try:\n",
    "            loc = input(\"Value of which index to move? (Row, Col) Spearate through space only: \").split(\" \")\n",
    "            move_row, move_col = int(loc[0]), int(loc[1])\n",
    "        except: \n",
    "            Log(\"Invalid Input\", \"Something wasn't right. Maybe this is because of your wrong input. Please try again.\")\n",
    "        \n",
    "        print('\\n\\n')\n",
    "        \n",
    "        \n",
    "        #Validate the move. if validatd, make a move\n",
    "        if validate_move(move_row,move_col, obj):\n",
    "            try:\n",
    "                obj.Puzzle = make_move(move_row,move_col,obj)\n",
    "            except:\n",
    "                print(\"Error occured! Try to do it again\")\n",
    "        else:\n",
    "            Log(\"This point is not in a valid poisiton to move\", \"Invalid Move\")\n",
    "            print()\n",
    "        \n",
    "        check_game_over(obj.Puzzle, obj)\n",
    "        \n",
    "        ## At the end of the while,increase total_move_counts to 1\n",
    "        total_move_counts += 1\n",
    "        "
   ]
  },
  {
   "cell_type": "code",
   "execution_count": null,
   "id": "33b1d2ec",
   "metadata": {},
   "outputs": [],
   "source": [
    "__init__()"
   ]
  }
 ],
 "metadata": {
  "kernelspec": {
   "display_name": "Python 3",
   "language": "python",
   "name": "python3"
  },
  "language_info": {
   "codemirror_mode": {
    "name": "ipython",
    "version": 3
   },
   "file_extension": ".py",
   "mimetype": "text/x-python",
   "name": "python",
   "nbconvert_exporter": "python",
   "pygments_lexer": "ipython3",
   "version": "3.9.5"
  }
 },
 "nbformat": 4,
 "nbformat_minor": 5
}
